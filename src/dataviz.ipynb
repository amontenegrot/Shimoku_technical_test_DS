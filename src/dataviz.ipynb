{
 "cells": [
  {
   "cell_type": "code",
   "execution_count": null,
   "metadata": {},
   "outputs": [],
   "source": [
    "import os\n",
    "\n",
    "import pandas as pd\n",
    "\n",
    "from os import getenv\n",
    "import shimoku_api_python as Shimoku"
   ]
  },
  {
   "cell_type": "code",
   "execution_count": null,
   "metadata": {},
   "outputs": [],
   "source": [
    "# Get PATH folder from previous directorys\n",
    "def get_path(prev_folders:int=0):\n",
    "    for i in range(prev_folders-1): os.chdir('../')  # Change to previous folder\n",
    "    PATH = os.path.dirname(os.getcwd()) + '/'\n",
    "    PATH = PATH.replace('\\\\', '/')\n",
    "    return PATH"
   ]
  },
  {
   "cell_type": "code",
   "execution_count": null,
   "metadata": {},
   "outputs": [],
   "source": [
    "def to_shimoku_structure(columns, dataframe):\n",
    "    dataframe = dataframe[columns].copy()\n",
    "    list_columns = list(dataframe.columns)\n",
    "    dataframe['index'] = dataframe.index\n",
    "    list_columns.insert(0, 'index')\n",
    "\n",
    "    data_as_dictionary = dataframe.set_index('index').T.to_dict('dict').values()\n",
    "    return list(data_as_dictionary)"
   ]
  },
  {
   "cell_type": "code",
   "execution_count": null,
   "metadata": {},
   "outputs": [],
   "source": [
    "def get_percentage(value:str, column:str, dataframe):\n",
    "    result_general = dataframe[column].value_counts(normalize=True)\n",
    "    result_specific = result_general[value] * 100\n",
    "    result_specific = str(round(result_specific, 2))+' %'\n",
    "    return result_specific"
   ]
  },
  {
   "cell_type": "code",
   "execution_count": null,
   "metadata": {},
   "outputs": [],
   "source": [
    "def value_counts_to_dataframe(column:str, dataframe):\n",
    "    dataframe_prov = dataframe[column].value_counts()\n",
    "    dataframe_prov = dataframe_prov.rename_axis(column)\n",
    "    dataframe_prov = dataframe_prov.reset_index(name='value')\n",
    "\n",
    "    return dataframe_prov"
   ]
  },
  {
   "cell_type": "markdown",
   "metadata": {},
   "source": [
    "# Environment settings"
   ]
  },
  {
   "cell_type": "code",
   "execution_count": null,
   "metadata": {},
   "outputs": [],
   "source": [
    "pd.options.display.max_columns = None  # Remove \"dots\" from display when printing dataframes\n",
    "PATH = get_path(prev_folders=1)"
   ]
  },
  {
   "cell_type": "code",
   "execution_count": null,
   "metadata": {},
   "outputs": [],
   "source": [
    "ACCESS_TOKEN = getenv('SHIMOKU_TOKEN')\n",
    "UNIVERSE_ID: str = getenv('UNIVERSE_ID')\n",
    "WORKSPACE_ID: str = getenv('WORKSPACE_ID')"
   ]
  },
  {
   "cell_type": "markdown",
   "metadata": {},
   "source": [
    "# Read data"
   ]
  },
  {
   "cell_type": "code",
   "execution_count": null,
   "metadata": {},
   "outputs": [],
   "source": [
    "df = pd.read_csv(PATH + 'data/output_preprocesing.csv')"
   ]
  },
  {
   "cell_type": "code",
   "execution_count": null,
   "metadata": {},
   "outputs": [],
   "source": [
    "df['Created Date'] = pd.to_datetime(df['Created Date'], format='%Y-%m-%d')\n",
    "df['Close Date'] = pd.to_datetime(df['Close Date'], format='%Y-%m-%d')\n",
    "\n",
    "\n",
    "df['Year created'] = df['Created Date'].dt.strftime('%Y')\n",
    "df['Year close'] = df['Close Date'].dt.strftime('%Y')\n",
    "\n",
    "# dfGeolocationKOF['Fecha de última visita'] = dfGeolocationKOF['Fecha de última visita'].dt.strftime('%d/%m/%Y')"
   ]
  },
  {
   "cell_type": "markdown",
   "metadata": {},
   "source": [
    "# Data visualization"
   ]
  },
  {
   "cell_type": "code",
   "execution_count": null,
   "metadata": {},
   "outputs": [],
   "source": [
    "s = Shimoku.Client(\n",
    "    access_token = ACCESS_TOKEN,\n",
    "    universe_id = UNIVERSE_ID,\n",
    ")\n",
    "\n",
    "s.set_workspace(uuid = WORKSPACE_ID)\n",
    "\n",
    "s.set_board('Data Scientist')\n",
    "\n",
    "s.set_menu_path('Technical Test', 'Alejandro M.')"
   ]
  },
  {
   "cell_type": "code",
   "execution_count": null,
   "metadata": {},
   "outputs": [],
   "source": [
    "# ------------------- Title: Indicators chart ------------------#\n",
    "s.plt.html(\n",
    "    order=0,\n",
    "    html=s.html_components.panel(\n",
    "        href='https://www.linkedin.com/in/amontenegrot/',\n",
    "        text='Alejandro Montenegro Taborda',\n",
    "        button_panel='LinkedIn',\n",
    "        symbol_name='insights'\n",
    "    )\n",
    ")\n",
    "\n",
    "per_closed_won = get_percentage('Closed Won', 'Status', df)\n",
    "per_closed_lost = get_percentage('Closed Lost', 'Status', df)\n",
    "per_negotiation = get_percentage('Negotiation', 'Status', df)\n",
    "per_checkbox = get_percentage('Checkbox', 'Status', df)\n",
    "per_demo_1 = get_percentage('Demo 1', 'Status', df)\n",
    "per_demo_2 = get_percentage('Demo 2', 'Status', df)\n",
    "\n",
    "indicators_groups = [\n",
    "    [\n",
    "        {\n",
    "            \"description\": \"Successful sales.\",\n",
    "            \"title\": \"Closed won\",\n",
    "            \"value\": per_closed_won,\n",
    "            \"align\": \"left\",\n",
    "            \"color\": \"success\",\n",
    "            \"variant\": \"contained\"\n",
    "        },\n",
    "        {\n",
    "            \"description\": \"Lost sales\",\n",
    "            \"title\": \"Closed Lost\",\n",
    "            \"value\": per_closed_lost,\n",
    "            \"align\": \"left\",\n",
    "            \"color\": \"error\"\n",
    "        },\n",
    "        {\n",
    "            \"description\": \"Sales\",\n",
    "            \"title\": \"Negotiation\",\n",
    "            \"value\": per_negotiation,\n",
    "            \"align\": \"left\",\n",
    "            \"color\": \"success\",\n",
    "        },\n",
    "        {\n",
    "            \"description\": \"Verified customers\",\n",
    "            \"title\": \"Checkbox\",\n",
    "            \"value\": per_checkbox,\n",
    "            \"align\": \"left\",\n",
    "            \"color\": \"\",\n",
    "        },\n",
    "        {\n",
    "            \"description\": \"First presentation\",\n",
    "            \"title\": \"Demo 1\",\n",
    "            \"value\": per_demo_1,\n",
    "            \"align\": \"left\",\n",
    "            \"color\": \"\",\n",
    "        },\n",
    "        {\n",
    "            \"description\": \"Second presentation\",\n",
    "            \"title\": \"Demo 2\",\n",
    "            \"value\": per_demo_2,\n",
    "            \"align\": \"left\",\n",
    "            \"color\": \"\",\n",
    "        }\n",
    "    ]\n",
    "]\n",
    "\n",
    "s.plt.indicators_with_header(\n",
    "    order=1, title='Status', subtitle='Product purchase by the customer.',\n",
    "    indicators_groups=indicators_groups,\n",
    "    indicators_parameters=dict(\n",
    "        cols_size=19,\n",
    "    )\n",
    ")"
   ]
  },
  {
   "cell_type": "code",
   "execution_count": null,
   "metadata": {},
   "outputs": [],
   "source": [
    "# ----------------------- Title: Pie chart ----------------------#\n",
    "df_discount = value_counts_to_dataframe('Has discount', df)\n",
    "\n",
    "list_columns = ['Has discount', 'value']\n",
    "data = to_shimoku_structure(list_columns, df_discount)\n",
    "data\n",
    "\n",
    "s.plt.pie(\n",
    "    data=data,\n",
    "    names='Has discount',\n",
    "    values='value',\n",
    "    order=2,\n",
    "    rows_size=2,\n",
    "    cols_size=12,\n",
    "    title='LE pie'\n",
    "    )"
   ]
  },
  {
   "cell_type": "code",
   "execution_count": null,
   "metadata": {},
   "outputs": [],
   "source": [
    "# ----------------------- Title: Bar chart ----------------------#\n",
    "\n",
    "list_columns = ['Year created', 'Price', 'Days in process']\n",
    "data = to_shimoku_structure(list_columns, df)\n",
    "data\n",
    "\n",
    "s.plt.bar(\n",
    "    order=3, title='Language expressiveness',\n",
    "    data=data, x='Year created',\n",
    "    y=['Price', 'Days in process'],\n",
    ")"
   ]
  }
 ],
 "metadata": {
  "kernelspec": {
   "display_name": "Python 3",
   "language": "python",
   "name": "python3"
  },
  "language_info": {
   "codemirror_mode": {
    "name": "ipython",
    "version": 3
   },
   "file_extension": ".py",
   "mimetype": "text/x-python",
   "name": "python",
   "nbconvert_exporter": "python",
   "pygments_lexer": "ipython3",
   "version": "3.9.13"
  }
 },
 "nbformat": 4,
 "nbformat_minor": 2
}
